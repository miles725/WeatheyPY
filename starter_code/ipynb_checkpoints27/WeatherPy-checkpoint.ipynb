{
 "cells": [
  {
   "cell_type": "markdown",
   "metadata": {},
   "source": [
    "# WeatherPy\n",
    "----\n",
    "\n",
    "### Analysis\n",
    "* As expected, the weather becomes significantly warmer as one approaches the equator (0 Deg. Latitude). More interestingly, however, is the fact that the southern hemisphere tends to be warmer this time of year than the northern hemisphere. This may be due to the tilt of the earth.\n",
    "* There is no strong relationship between latitude and cloudiness. However, it is interesting to see that a strong band of cities sits at 0, 80, and 100% cloudiness.\n",
    "* There is no strong relationship between latitude and wind speed. However, in northern hemispheres there is a flurry of cities with over 20 mph of wind.\n",
    "\n",
    "---\n",
    "\n",
    "#### Note\n",
    "* Instructions have been included for each segment. You do not have to follow them exactly, but they are included to help you think through the steps."
   ]
  },
  {
   "cell_type": "code",
   "execution_count": 1,
   "metadata": {
    "scrolled": true
   },
   "outputs": [],
   "source": [
    "# Dependencies and Setup\n",
    "import matplotlib.pyplot as plt\n",
    "import pandas as pd\n",
    "import numpy as np\n",
    "import requests as request\n",
    "import time\n",
    "\n",
    "# Import API key\n",
    "from api_keys import api_key\n",
    "\n",
    "# Incorporated citipy to determine city based on latitude and longitude\n",
    "from citipy import citipy\n",
    "\n",
    "# Output File (CSV)\n",
    "output_data_file = \"output_data/cities.csv\"\n",
    "\n",
    "# Range of latitudes and longitudes\n",
    "lat_range = (-90, 90)\n",
    "lng_range = (-180, 180)"
   ]
  },
  {
   "cell_type": "markdown",
   "metadata": {},
   "source": [
    "## Generate Cities List"
   ]
  },
  {
   "cell_type": "code",
   "execution_count": null,
   "metadata": {},
   "outputs": [
    {
     "data": {
      "text/plain": [
       "607"
      ]
     },
     "execution_count": 2,
     "metadata": {},
     "output_type": "execute_result"
    }
   ],
   "source": [
    "\n",
    "# List for holding lat_lngs and cities\n",
    "lat_lngs = []\n",
    "cities = []\n",
    "\n",
    "# Create a set of random lat and lng combinations\n",
    "lats = np.random.uniform(low=-90.000, high=90.000, size=1500)\n",
    "lngs = np.random.uniform(low=-180.000, high=180.000, size=1500)\n",
    "lat_lngs = zip(lats, lngs)\n",
    "\n",
    "# Identify nearest city for each lat, lng combination\n",
    "for lat_lng in lat_lngs:\n",
    "    city = citipy.nearest_city(lat_lng[0], lat_lng[1]).city_name\n",
    "    \n",
    "    # If the city is unique, then add it to a our cities list\n",
    "    if city not in cities:\n",
    "        cities.append(city)\n",
    "\n",
    "# Print the city count to confirm sufficient count\n",
    "len(cities)"
   ]
  },
  {
   "cell_type": "markdown",
   "metadata": {},
   "source": [
    "### Perform API Calls\n",
    "* Perform a weather check on each city using a series of successive API calls.\n",
    "* Include a print log of each city as it'sbeing processed (with the city number and city name).\n"
   ]
  },
  {
   "cell_type": "code",
   "execution_count": null,
   "metadata": {},
   "outputs": [
    {
     "data": {
      "text/html": [
       "<div>\n",
       "<style scoped>\n",
       "    .dataframe tbody tr th:only-of-type {\n",
       "        vertical-align: middle;\n",
       "    }\n",
       "\n",
       "    .dataframe tbody tr th {\n",
       "        vertical-align: top;\n",
       "    }\n",
       "\n",
       "    .dataframe thead th {\n",
       "        text-align: right;\n",
       "    }\n",
       "</style>\n",
       "<table border=\"1\" class=\"dataframe\">\n",
       "  <thead>\n",
       "    <tr style=\"text-align: right;\">\n",
       "      <th></th>\n",
       "      <th>City</th>\n",
       "    </tr>\n",
       "  </thead>\n",
       "  <tbody>\n",
       "    <tr>\n",
       "      <th>0</th>\n",
       "      <td>inuvik</td>\n",
       "    </tr>\n",
       "    <tr>\n",
       "      <th>1</th>\n",
       "      <td>jalu</td>\n",
       "    </tr>\n",
       "    <tr>\n",
       "      <th>2</th>\n",
       "      <td>isangel</td>\n",
       "    </tr>\n",
       "    <tr>\n",
       "      <th>3</th>\n",
       "      <td>zhenlai</td>\n",
       "    </tr>\n",
       "    <tr>\n",
       "      <th>4</th>\n",
       "      <td>castro</td>\n",
       "    </tr>\n",
       "  </tbody>\n",
       "</table>\n",
       "</div>"
      ],
      "text/plain": [
       "      City\n",
       "0   inuvik\n",
       "1     jalu\n",
       "2  isangel\n",
       "3  zhenlai\n",
       "4   castro"
      ]
     },
     "execution_count": 3,
     "metadata": {},
     "output_type": "execute_result"
    }
   ],
   "source": [
    "# Create dataframe for the cities\n",
    "df_cities = pd.DataFrame()\n",
    "df_cities['City'] = cities\n",
    "df_cities.head()"
   ]
  },
  {
   "cell_type": "code",
   "execution_count": null,
   "metadata": {},
   "outputs": [
    {
     "name": "stdout",
     "output_type": "stream",
     "text": [
      "Retrieving data for https://api.openweathermap.org/data/2.5/weather?q=inuvik&appid=99d44460b68d7350fabd4ff58b65d0aa&units=imperial\n",
      "City #1 --- ID: 5983607  Name: Inuvik\n",
      "_____________________________________________________________\n",
      "Retrieving data for https://api.openweathermap.org/data/2.5/weather?q=jalu&appid=99d44460b68d7350fabd4ff58b65d0aa&units=imperial\n",
      "City #2 --- ID: 86049  Name: Jalu\n",
      "_____________________________________________________________\n",
      "Retrieving data for https://api.openweathermap.org/data/2.5/weather?q=isangel&appid=99d44460b68d7350fabd4ff58b65d0aa&units=imperial\n",
      "City #3 --- ID: 2136825  Name: Isangel\n",
      "_____________________________________________________________\n",
      "Retrieving data for https://api.openweathermap.org/data/2.5/weather?q=zhenlai&appid=99d44460b68d7350fabd4ff58b65d0aa&units=imperial\n",
      "City #4 --- ID: 2033128  Name: Zhenlai\n",
      "_____________________________________________________________\n",
      "Retrieving data for https://api.openweathermap.org/data/2.5/weather?q=castro&appid=99d44460b68d7350fabd4ff58b65d0aa&units=imperial\n",
      "City #5 --- ID: 3896218  Name: Castro\n",
      "_____________________________________________________________\n",
      "Retrieving data for https://api.openweathermap.org/data/2.5/weather?q=jamestown&appid=99d44460b68d7350fabd4ff58b65d0aa&units=imperial\n",
      "City #6 --- ID: 2069194  Name: Jamestown\n",
      "_____________________________________________________________\n",
      "Retrieving data for https://api.openweathermap.org/data/2.5/weather?q=khatanga&appid=99d44460b68d7350fabd4ff58b65d0aa&units=imperial\n",
      "City #7 --- ID: 2022572  Name: Khatanga\n",
      "_____________________________________________________________\n",
      "Retrieving data for https://api.openweathermap.org/data/2.5/weather?q=clyde river&appid=99d44460b68d7350fabd4ff58b65d0aa&units=imperial\n",
      "City #8 --- ID: 5924351  Name: Clyde River\n",
      "_____________________________________________________________\n",
      "Retrieving data for https://api.openweathermap.org/data/2.5/weather?q=kaseda&appid=99d44460b68d7350fabd4ff58b65d0aa&units=imperial\n",
      "City #9 --- ID: 1859964  Name: Kaseda\n",
      "_____________________________________________________________\n",
      "Retrieving data for https://api.openweathermap.org/data/2.5/weather?q=prince rupert&appid=99d44460b68d7350fabd4ff58b65d0aa&units=imperial\n",
      "City #10 --- ID: 6113406  Name: Prince Rupert\n",
      "_____________________________________________________________\n",
      "Retrieving data for https://api.openweathermap.org/data/2.5/weather?q=kiama&appid=99d44460b68d7350fabd4ff58b65d0aa&units=imperial\n",
      "City #11 --- ID: 2161515  Name: Kiama\n",
      "_____________________________________________________________\n",
      "Retrieving data for https://api.openweathermap.org/data/2.5/weather?q=lebu&appid=99d44460b68d7350fabd4ff58b65d0aa&units=imperial\n",
      "City #12 --- ID: 344979  Name: Lebu\n",
      "_____________________________________________________________\n",
      "Retrieving data for https://api.openweathermap.org/data/2.5/weather?q=chapais&appid=99d44460b68d7350fabd4ff58b65d0aa&units=imperial\n",
      "City #13 --- ID: 5919850  Name: Chapais\n",
      "_____________________________________________________________\n",
      "Retrieving data for https://api.openweathermap.org/data/2.5/weather?q=attawapiskat&appid=99d44460b68d7350fabd4ff58b65d0aa&units=imperial\n",
      "City #14 --- weather data not available for attawapiskat\n",
      "_____________________________________________________________\n",
      "Retrieving data for https://api.openweathermap.org/data/2.5/weather?q=wanning&appid=99d44460b68d7350fabd4ff58b65d0aa&units=imperial\n",
      "City #15 --- ID: 3220813  Name: Wanning\n",
      "_____________________________________________________________\n",
      "Retrieving data for https://api.openweathermap.org/data/2.5/weather?q=punta arenas&appid=99d44460b68d7350fabd4ff58b65d0aa&units=imperial\n",
      "City #16 --- ID: 3874787  Name: Punta Arenas\n",
      "_____________________________________________________________\n",
      "Retrieving data for https://api.openweathermap.org/data/2.5/weather?q=bluff&appid=99d44460b68d7350fabd4ff58b65d0aa&units=imperial\n",
      "City #17 --- ID: 2175403  Name: Bluff\n",
      "_____________________________________________________________\n",
      "Retrieving data for https://api.openweathermap.org/data/2.5/weather?q=bahia blanca&appid=99d44460b68d7350fabd4ff58b65d0aa&units=imperial\n",
      "City #18 --- ID: 3865086  Name: Bahia Blanca\n",
      "_____________________________________________________________\n",
      "Retrieving data for https://api.openweathermap.org/data/2.5/weather?q=monroe&appid=99d44460b68d7350fabd4ff58b65d0aa&units=imperial\n",
      "City #19 --- ID: 5002344  Name: Monroe\n",
      "_____________________________________________________________\n",
      "Retrieving data for https://api.openweathermap.org/data/2.5/weather?q=adre&appid=99d44460b68d7350fabd4ff58b65d0aa&units=imperial\n",
      "City #20 --- ID: 245669  Name: Adre\n",
      "_____________________________________________________________\n",
      "Retrieving data for https://api.openweathermap.org/data/2.5/weather?q=kapaa&appid=99d44460b68d7350fabd4ff58b65d0aa&units=imperial\n",
      "City #21 --- ID: 5848280  Name: Kapaa\n",
      "_____________________________________________________________\n",
      "Retrieving data for https://api.openweathermap.org/data/2.5/weather?q=qaanaaq&appid=99d44460b68d7350fabd4ff58b65d0aa&units=imperial\n",
      "City #22 --- ID: 3831208  Name: Qaanaaq\n",
      "_____________________________________________________________\n",
      "Retrieving data for https://api.openweathermap.org/data/2.5/weather?q=taolanaro&appid=99d44460b68d7350fabd4ff58b65d0aa&units=imperial\n",
      "City #23 --- weather data not available for taolanaro\n",
      "_____________________________________________________________\n",
      "Retrieving data for https://api.openweathermap.org/data/2.5/weather?q=mount isa&appid=99d44460b68d7350fabd4ff58b65d0aa&units=imperial\n",
      "City #24 --- ID: 2065594  Name: Mount Isa\n",
      "_____________________________________________________________\n",
      "Retrieving data for https://api.openweathermap.org/data/2.5/weather?q=mamou&appid=99d44460b68d7350fabd4ff58b65d0aa&units=imperial\n",
      "City #25 --- ID: 2417833  Name: Mamou\n",
      "_____________________________________________________________\n",
      "Retrieving data for https://api.openweathermap.org/data/2.5/weather?q=dali&appid=99d44460b68d7350fabd4ff58b65d0aa&units=imperial\n",
      "City #26 --- ID: 1814093  Name: Dali\n",
      "_____________________________________________________________\n",
      "Retrieving data for https://api.openweathermap.org/data/2.5/weather?q=hermanus&appid=99d44460b68d7350fabd4ff58b65d0aa&units=imperial\n",
      "City #27 --- ID: 3366880  Name: Hermanus\n",
      "_____________________________________________________________\n",
      "Retrieving data for https://api.openweathermap.org/data/2.5/weather?q=cascais&appid=99d44460b68d7350fabd4ff58b65d0aa&units=imperial\n",
      "City #28 --- ID: 2269594  Name: Cascais\n",
      "_____________________________________________________________\n",
      "Retrieving data for https://api.openweathermap.org/data/2.5/weather?q=butaritari&appid=99d44460b68d7350fabd4ff58b65d0aa&units=imperial\n",
      "City #29 --- ID: 2110227  Name: Butaritari\n",
      "_____________________________________________________________\n",
      "Retrieving data for https://api.openweathermap.org/data/2.5/weather?q=atuona&appid=99d44460b68d7350fabd4ff58b65d0aa&units=imperial\n",
      "City #30 --- ID: 4020109  Name: Atuona\n",
      "_____________________________________________________________\n",
      "Retrieving data for https://api.openweathermap.org/data/2.5/weather?q=arman&appid=99d44460b68d7350fabd4ff58b65d0aa&units=imperial\n",
      "City #31 --- ID: 2127060  Name: Arman\n",
      "_____________________________________________________________\n",
      "Retrieving data for https://api.openweathermap.org/data/2.5/weather?q=hilo&appid=99d44460b68d7350fabd4ff58b65d0aa&units=imperial\n",
      "City #32 --- ID: 5855927  Name: Hilo\n",
      "_____________________________________________________________\n"
     ]
    }
   ],
   "source": [
    "weather_data = []\n",
    "\n",
    "counter = 0\n",
    "units = \"imperial\" # set to imperial to get temperature in Fahrenheit as required by the output\n",
    "\n",
    "# call weather api looping through df_cities  \n",
    "for row in df_cities.City:\n",
    "    city = row\n",
    "    target_url = f\"https://api.openweathermap.org/data/2.5/weather?q={city}&appid={api_key}&units={units}\"\n",
    "    response = request.get(target_url).json()\n",
    "    weather_data.append(response)\n",
    "    time.sleep(1)\n",
    "    counter +=1\n",
    "\n",
    "    print(\"Retrieving data for \" + target_url)\n",
    "    \n",
    "    if response[\"cod\"] != \"404\": \n",
    "        print(\"City #\" + str(counter) + \" --- ID: \" + str(response['id']) + \"  Name: \" + response['name'])\n",
    "    else:\n",
    "        print(\"City #\" + str(counter) + \" --- weather data not available for \" + city)\n",
    "\n",
    "    print(\"_____________________________________________________________\")"
   ]
  },
  {
   "cell_type": "markdown",
   "metadata": {},
   "source": [
    "### Convert Raw Data to DataFrame\n",
    "* Export the city data into a .csv.\n",
    "* Display the DataFrame"
   ]
  },
  {
   "cell_type": "code",
   "execution_count": null,
   "metadata": {},
   "outputs": [],
   "source": [
    "# Extract needed data from json response\n",
    "data = []\n",
    "for item in weather_data:\n",
    "    if item['cod'] != \"404\":\n",
    "        city = item['name']\n",
    "        country = item['sys']['country']\n",
    "        longitude = item['coord']['lon']\n",
    "        latitude = item['coord']['lat']\n",
    "        date = item['dt']\n",
    "        temperature = item['main']['temp']\n",
    "        humidity = item['main']['humidity']\n",
    "        cloudiness = item['clouds']['all']\n",
    "        wind_speed = item['wind']['speed']\n",
    "        row_data = [city, country, longitude, latitude, date, temperature, humidity, cloudiness, wind_speed]\n",
    "        data.append(row_data)\n",
    "\n",
    "# Create dataframe and display\n",
    "df_weather = pd.DataFrame(data)\n",
    "df_weather.columns = ['City', 'Country', 'Longitude', 'Latitude', 'Date', 'Temperature', 'Humidity', 'Cloudiness', 'Wind Speed']\n",
    "df_weather.head()"
   ]
  },
  {
   "cell_type": "code",
   "execution_count": null,
   "metadata": {},
   "outputs": [],
   "source": [
    "# Save data to CSV file\n",
    "df_weather.to_csv(output_data_file)"
   ]
  },
  {
   "cell_type": "markdown",
   "metadata": {},
   "source": [
    "### Plotting the Data\n",
    "* Use proper labeling of the plots using plot titles (including date of analysis) and axes labels.\n",
    "* Save the plotted figures as .pngs."
   ]
  },
  {
   "cell_type": "markdown",
   "metadata": {},
   "source": [
    "#### Latitude vs. Temperature Plot"
   ]
  },
  {
   "cell_type": "code",
   "execution_count": null,
   "metadata": {},
   "outputs": [],
   "source": [
    "# Convert timestamp to readable date format\n",
    "from datetime import datetime\n",
    "date = datetime.utcfromtimestamp(int(df_weather['Date'][0])).strftime('%m/%d/%y')\n",
    "\n",
    "import seaborn as sns\n",
    "\n",
    "plt.scatter(df_weather['Latitude'], df_weather['Temperature'], marker='o', color='blue', edgecolor='black')\n",
    "plt.xlabel('Latitude')\n",
    "plt.ylabel('Max Temperature (F)')\n",
    "plt.title('City Latitude vs. Max Temperature (' + date + ')')\n",
    "plt.rcParams[\"figure.figsize\"] = [12, 8]\n",
    "plt.grid()\n",
    "sns.set()\n",
    "plt.savefig(\"output_data/temperature.png\")\n",
    "plt.show()"
   ]
  },
  {
   "cell_type": "markdown",
   "metadata": {},
   "source": [
    "#### Latitude vs. Humidity Plot"
   ]
  },
  {
   "cell_type": "code",
   "execution_count": null,
   "metadata": {},
   "outputs": [],
   "source": [
    "plt.scatter(df_weather['Latitude'], df_weather['Humidity'], marker='o', color='blue', edgecolor='black')\n",
    "plt.xlabel('Latitude')\n",
    "plt.ylabel('Humidity (%)')\n",
    "plt.title('City Latitude vs. Humidity (' + date + ')')\n",
    "plt.rcParams[\"figure.figsize\"] = [12, 8]\n",
    "plt.grid()\n",
    "plt.savefig(\"output_data/humidity.png\")\n",
    "plt.show()"
   ]
  },
  {
   "cell_type": "markdown",
   "metadata": {},
   "source": [
    "#### Latitude vs. Cloudiness Plot"
   ]
  },
  {
   "cell_type": "code",
   "execution_count": null,
   "metadata": {},
   "outputs": [],
   "source": [
    "plt.scatter(df_weather['Latitude'], df_weather['Cloudiness'], marker='o', color='blue', edgecolor='black')\n",
    "plt.xlabel('Latitude')\n",
    "plt.ylabel('Cloudiness (%)')\n",
    "plt.title('City Latitude vs. Cloudiness (' + date + ')')\n",
    "plt.rcParams[\"figure.figsize\"] = [12, 8]\n",
    "plt.grid()\n",
    "plt.savefig(\"output_data/cloudiness.png\")\n",
    "plt.show()"
   ]
  },
  {
   "cell_type": "markdown",
   "metadata": {},
   "source": [
    "#### Latitude vs. Wind Speed Plot"
   ]
  },
  {
   "cell_type": "code",
   "execution_count": null,
   "metadata": {},
   "outputs": [],
   "source": [
    "plt.scatter(df_weather['Latitude'], df_weather['Wind Speed'], marker='o', color='blue', edgecolor='black')\n",
    "plt.xlabel('Latitude')\n",
    "plt.ylabel('Wind Speed (mph)')\n",
    "plt.title('City Latitude vs. Wind Speed (' + date + ')')\n",
    "plt.rcParams[\"figure.figsize\"] = [12, 8]\n",
    "plt.grid()\n",
    "plt.savefig(\"output_data/wind.png\")\n",
    "plt.show()"
   ]
  }
 ],
 "metadata": {
  "anaconda-cloud": {},
  "kernelspec": {
   "display_name": "Python 3",
   "language": "python",
   "name": "python3"
  },
  "language_info": {
   "codemirror_mode": {
    "name": "ipython",
    "version": 3
   },
   "file_extension": ".py",
   "mimetype": "text/x-python",
   "name": "python",
   "nbconvert_exporter": "python",
   "pygments_lexer": "ipython3",
   "version": "3.7.1"
  }
 },
 "nbformat": 4,
 "nbformat_minor": 2
}
