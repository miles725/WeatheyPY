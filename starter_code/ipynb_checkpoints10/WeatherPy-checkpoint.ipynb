{
 "cells": [
  {
   "cell_type": "markdown",
   "metadata": {},
   "source": [
    "# WeatherPy\n",
    "----\n",
    "\n",
    "### Analysis\n",
    "* As expected, the weather becomes significantly warmer as one approaches the equator (0 Deg. Latitude). More interestingly, however, is the fact that the southern hemisphere tends to be warmer this time of year than the northern hemisphere. This may be due to the tilt of the earth.\n",
    "* There is no strong relationship between latitude and cloudiness. However, it is interesting to see that a strong band of cities sits at 0, 80, and 100% cloudiness.\n",
    "* There is no strong relationship between latitude and wind speed. However, in northern hemispheres there is a flurry of cities with over 20 mph of wind.\n",
    "\n",
    "---\n",
    "\n",
    "#### Note\n",
    "* Instructions have been included for each segment. You do not have to follow them exactly, but they are included to help you think through the steps."
   ]
  },
  {
   "cell_type": "code",
   "execution_count": 1,
   "metadata": {
    "scrolled": true
   },
   "outputs": [],
   "source": [
    "# Dependencies and Setup\n",
    "import matplotlib.pyplot as plt\n",
    "import pandas as pd\n",
    "import numpy as np\n",
    "import requests as request\n",
    "import time\n",
    "\n",
    "# Import API key\n",
    "from api_keys import api_key\n",
    "\n",
    "# Incorporated citipy to determine city based on latitude and longitude\n",
    "from citipy import citipy\n",
    "\n",
    "# Output File (CSV)\n",
    "output_data_file = \"output_data/cities.csv\"\n",
    "\n",
    "# Range of latitudes and longitudes\n",
    "lat_range = (-90, 90)\n",
    "lng_range = (-180, 180)"
   ]
  },
  {
   "cell_type": "markdown",
   "metadata": {},
   "source": [
    "## Generate Cities List"
   ]
  },
  {
   "cell_type": "code",
   "execution_count": 2,
   "metadata": {},
   "outputs": [
    {
     "data": {
      "text/plain": [
       "610"
      ]
     },
     "execution_count": 2,
     "metadata": {},
     "output_type": "execute_result"
    }
   ],
   "source": [
    "\n",
    "# List for holding lat_lngs and cities\n",
    "lat_lngs = []\n",
    "cities = []\n",
    "\n",
    "# Create a set of random lat and lng combinations\n",
    "lats = np.random.uniform(low=-90.000, high=90.000, size=1500)\n",
    "lngs = np.random.uniform(low=-180.000, high=180.000, size=1500)\n",
    "lat_lngs = zip(lats, lngs)\n",
    "\n",
    "# Identify nearest city for each lat, lng combination\n",
    "for lat_lng in lat_lngs:\n",
    "    city = citipy.nearest_city(lat_lng[0], lat_lng[1]).city_name\n",
    "    \n",
    "    # If the city is unique, then add it to a our cities list\n",
    "    if city not in cities:\n",
    "        cities.append(city)\n",
    "\n",
    "# Print the city count to confirm sufficient count\n",
    "len(cities)"
   ]
  },
  {
   "cell_type": "markdown",
   "metadata": {},
   "source": [
    "### Perform API Calls\n",
    "* Perform a weather check on each city using a series of successive API calls.\n",
    "* Include a print log of each city as it'sbeing processed (with the city number and city name).\n"
   ]
  },
  {
   "cell_type": "code",
   "execution_count": 3,
   "metadata": {},
   "outputs": [
    {
     "data": {
      "text/html": [
       "<div>\n",
       "<style scoped>\n",
       "    .dataframe tbody tr th:only-of-type {\n",
       "        vertical-align: middle;\n",
       "    }\n",
       "\n",
       "    .dataframe tbody tr th {\n",
       "        vertical-align: top;\n",
       "    }\n",
       "\n",
       "    .dataframe thead th {\n",
       "        text-align: right;\n",
       "    }\n",
       "</style>\n",
       "<table border=\"1\" class=\"dataframe\">\n",
       "  <thead>\n",
       "    <tr style=\"text-align: right;\">\n",
       "      <th></th>\n",
       "      <th>City</th>\n",
       "    </tr>\n",
       "  </thead>\n",
       "  <tbody>\n",
       "    <tr>\n",
       "      <th>0</th>\n",
       "      <td>cherskiy</td>\n",
       "    </tr>\n",
       "    <tr>\n",
       "      <th>1</th>\n",
       "      <td>lebu</td>\n",
       "    </tr>\n",
       "    <tr>\n",
       "      <th>2</th>\n",
       "      <td>sitka</td>\n",
       "    </tr>\n",
       "    <tr>\n",
       "      <th>3</th>\n",
       "      <td>rikitea</td>\n",
       "    </tr>\n",
       "    <tr>\n",
       "      <th>4</th>\n",
       "      <td>mys shmidta</td>\n",
       "    </tr>\n",
       "  </tbody>\n",
       "</table>\n",
       "</div>"
      ],
      "text/plain": [
       "          City\n",
       "0     cherskiy\n",
       "1         lebu\n",
       "2        sitka\n",
       "3      rikitea\n",
       "4  mys shmidta"
      ]
     },
     "execution_count": 3,
     "metadata": {},
     "output_type": "execute_result"
    }
   ],
   "source": [
    "# Create dataframe for the cities\n",
    "df_cities = pd.DataFrame()\n",
    "df_cities['City'] = cities\n",
    "df_cities.head()"
   ]
  },
  {
   "cell_type": "code",
   "execution_count": null,
   "metadata": {},
   "outputs": [
    {
     "name": "stdout",
     "output_type": "stream",
     "text": [
      "Retrieving data for https://api.openweathermap.org/data/2.5/weather?q=cherskiy&appid=99d44460b68d7350fabd4ff58b65d0aa&units=imperial\n",
      "City #1 --- ID: 2126199  Name: Cherskiy\n",
      "_____________________________________________________________\n",
      "Retrieving data for https://api.openweathermap.org/data/2.5/weather?q=lebu&appid=99d44460b68d7350fabd4ff58b65d0aa&units=imperial\n",
      "City #2 --- ID: 344979  Name: Lebu\n",
      "_____________________________________________________________\n",
      "Retrieving data for https://api.openweathermap.org/data/2.5/weather?q=sitka&appid=99d44460b68d7350fabd4ff58b65d0aa&units=imperial\n",
      "City #3 --- ID: 4267710  Name: Sitka\n",
      "_____________________________________________________________\n",
      "Retrieving data for https://api.openweathermap.org/data/2.5/weather?q=rikitea&appid=99d44460b68d7350fabd4ff58b65d0aa&units=imperial\n",
      "City #4 --- ID: 4030556  Name: Rikitea\n",
      "_____________________________________________________________\n",
      "Retrieving data for https://api.openweathermap.org/data/2.5/weather?q=mys shmidta&appid=99d44460b68d7350fabd4ff58b65d0aa&units=imperial\n",
      "City #5 --- weather data not available for mys shmidta\n",
      "_____________________________________________________________\n",
      "Retrieving data for https://api.openweathermap.org/data/2.5/weather?q=geraldton&appid=99d44460b68d7350fabd4ff58b65d0aa&units=imperial\n",
      "City #6 --- ID: 5960603  Name: Geraldton\n",
      "_____________________________________________________________\n",
      "Retrieving data for https://api.openweathermap.org/data/2.5/weather?q=flin flon&appid=99d44460b68d7350fabd4ff58b65d0aa&units=imperial\n",
      "City #7 --- ID: 5954718  Name: Flin Flon\n",
      "_____________________________________________________________\n",
      "Retrieving data for https://api.openweathermap.org/data/2.5/weather?q=mataura&appid=99d44460b68d7350fabd4ff58b65d0aa&units=imperial\n",
      "City #8 --- ID: 6201424  Name: Mataura\n",
      "_____________________________________________________________\n",
      "Retrieving data for https://api.openweathermap.org/data/2.5/weather?q=cayenne&appid=99d44460b68d7350fabd4ff58b65d0aa&units=imperial\n",
      "City #9 --- ID: 3382160  Name: Cayenne\n",
      "_____________________________________________________________\n",
      "Retrieving data for https://api.openweathermap.org/data/2.5/weather?q=puerto narino&appid=99d44460b68d7350fabd4ff58b65d0aa&units=imperial\n",
      "City #10 --- ID: 3671387  Name: Puerto Narino\n",
      "_____________________________________________________________\n",
      "Retrieving data for https://api.openweathermap.org/data/2.5/weather?q=great yarmouth&appid=99d44460b68d7350fabd4ff58b65d0aa&units=imperial\n",
      "City #11 --- ID: 2647984  Name: Great Yarmouth\n",
      "_____________________________________________________________\n",
      "Retrieving data for https://api.openweathermap.org/data/2.5/weather?q=agdam&appid=99d44460b68d7350fabd4ff58b65d0aa&units=imperial\n",
      "City #12 --- ID: 148619  Name: Agdam\n",
      "_____________________________________________________________\n",
      "Retrieving data for https://api.openweathermap.org/data/2.5/weather?q=taltal&appid=99d44460b68d7350fabd4ff58b65d0aa&units=imperial\n",
      "City #13 --- ID: 3870243  Name: Taltal\n",
      "_____________________________________________________________\n",
      "Retrieving data for https://api.openweathermap.org/data/2.5/weather?q=east london&appid=99d44460b68d7350fabd4ff58b65d0aa&units=imperial\n",
      "City #14 --- ID: 1006984  Name: East London\n",
      "_____________________________________________________________\n",
      "Retrieving data for https://api.openweathermap.org/data/2.5/weather?q=atuona&appid=99d44460b68d7350fabd4ff58b65d0aa&units=imperial\n",
      "City #15 --- ID: 4020109  Name: Atuona\n",
      "_____________________________________________________________\n",
      "Retrieving data for https://api.openweathermap.org/data/2.5/weather?q=cidreira&appid=99d44460b68d7350fabd4ff58b65d0aa&units=imperial\n",
      "City #16 --- ID: 3466165  Name: Cidreira\n",
      "_____________________________________________________________\n",
      "Retrieving data for https://api.openweathermap.org/data/2.5/weather?q=kapaa&appid=99d44460b68d7350fabd4ff58b65d0aa&units=imperial\n",
      "City #17 --- ID: 5848280  Name: Kapaa\n",
      "_____________________________________________________________\n",
      "Retrieving data for https://api.openweathermap.org/data/2.5/weather?q=jamestown&appid=99d44460b68d7350fabd4ff58b65d0aa&units=imperial\n",
      "City #18 --- ID: 2069194  Name: Jamestown\n",
      "_____________________________________________________________\n",
      "Retrieving data for https://api.openweathermap.org/data/2.5/weather?q=saint-philippe&appid=99d44460b68d7350fabd4ff58b65d0aa&units=imperial\n",
      "City #19 --- ID: 6138908  Name: Saint-Philippe\n",
      "_____________________________________________________________\n",
      "Retrieving data for https://api.openweathermap.org/data/2.5/weather?q=tabiauea&appid=99d44460b68d7350fabd4ff58b65d0aa&units=imperial\n",
      "City #20 --- weather data not available for tabiauea\n",
      "_____________________________________________________________\n",
      "Retrieving data for https://api.openweathermap.org/data/2.5/weather?q=port alfred&appid=99d44460b68d7350fabd4ff58b65d0aa&units=imperial\n",
      "City #21 --- ID: 964432  Name: Port Alfred\n",
      "_____________________________________________________________\n",
      "Retrieving data for https://api.openweathermap.org/data/2.5/weather?q=tiksi&appid=99d44460b68d7350fabd4ff58b65d0aa&units=imperial\n",
      "City #22 --- ID: 2015306  Name: Tiksi\n",
      "_____________________________________________________________\n",
      "Retrieving data for https://api.openweathermap.org/data/2.5/weather?q=albany&appid=99d44460b68d7350fabd4ff58b65d0aa&units=imperial\n",
      "City #23 --- ID: 5106834  Name: Albany\n",
      "_____________________________________________________________\n",
      "Retrieving data for https://api.openweathermap.org/data/2.5/weather?q=khatanga&appid=99d44460b68d7350fabd4ff58b65d0aa&units=imperial\n",
      "City #24 --- ID: 2022572  Name: Khatanga\n",
      "_____________________________________________________________\n",
      "Retrieving data for https://api.openweathermap.org/data/2.5/weather?q=hilo&appid=99d44460b68d7350fabd4ff58b65d0aa&units=imperial\n",
      "City #25 --- ID: 5855927  Name: Hilo\n",
      "_____________________________________________________________\n",
      "Retrieving data for https://api.openweathermap.org/data/2.5/weather?q=saldanha&appid=99d44460b68d7350fabd4ff58b65d0aa&units=imperial\n",
      "City #26 --- ID: 2737599  Name: Saldanha\n",
      "_____________________________________________________________\n",
      "Retrieving data for https://api.openweathermap.org/data/2.5/weather?q=college&appid=99d44460b68d7350fabd4ff58b65d0aa&units=imperial\n",
      "City #27 --- ID: 5859699  Name: College\n",
      "_____________________________________________________________\n",
      "Retrieving data for https://api.openweathermap.org/data/2.5/weather?q=nioro&appid=99d44460b68d7350fabd4ff58b65d0aa&units=imperial\n",
      "City #28 --- ID: 2413070  Name: Nioro\n",
      "_____________________________________________________________\n",
      "Retrieving data for https://api.openweathermap.org/data/2.5/weather?q=barrow&appid=99d44460b68d7350fabd4ff58b65d0aa&units=imperial\n",
      "City #29 --- ID: 3833859  Name: Barrow\n",
      "_____________________________________________________________\n",
      "Retrieving data for https://api.openweathermap.org/data/2.5/weather?q=hithadhoo&appid=99d44460b68d7350fabd4ff58b65d0aa&units=imperial\n",
      "City #30 --- ID: 1282256  Name: Hithadhoo\n",
      "_____________________________________________________________\n",
      "Retrieving data for https://api.openweathermap.org/data/2.5/weather?q=vaini&appid=99d44460b68d7350fabd4ff58b65d0aa&units=imperial\n",
      "City #31 --- ID: 1273574  Name: Vaini\n",
      "_____________________________________________________________\n",
      "Retrieving data for https://api.openweathermap.org/data/2.5/weather?q=arraial do cabo&appid=99d44460b68d7350fabd4ff58b65d0aa&units=imperial\n",
      "City #32 --- ID: 3471451  Name: Arraial do Cabo\n",
      "_____________________________________________________________\n",
      "Retrieving data for https://api.openweathermap.org/data/2.5/weather?q=longyearbyen&appid=99d44460b68d7350fabd4ff58b65d0aa&units=imperial\n",
      "City #33 --- ID: 2729907  Name: Longyearbyen\n",
      "_____________________________________________________________\n",
      "Retrieving data for https://api.openweathermap.org/data/2.5/weather?q=punta arenas&appid=99d44460b68d7350fabd4ff58b65d0aa&units=imperial\n",
      "City #34 --- ID: 3874787  Name: Punta Arenas\n",
      "_____________________________________________________________\n",
      "Retrieving data for https://api.openweathermap.org/data/2.5/weather?q=uthal&appid=99d44460b68d7350fabd4ff58b65d0aa&units=imperial\n",
      "City #35 --- ID: 1162862  Name: Uthal\n",
      "_____________________________________________________________\n"
     ]
    },
    {
     "name": "stdout",
     "output_type": "stream",
     "text": [
      "Retrieving data for https://api.openweathermap.org/data/2.5/weather?q=price&appid=99d44460b68d7350fabd4ff58b65d0aa&units=imperial\n",
      "City #36 --- ID: 5545269  Name: Price\n",
      "_____________________________________________________________\n",
      "Retrieving data for https://api.openweathermap.org/data/2.5/weather?q=mullaitivu&appid=99d44460b68d7350fabd4ff58b65d0aa&units=imperial\n",
      "City #37 --- weather data not available for mullaitivu\n",
      "_____________________________________________________________\n",
      "Retrieving data for https://api.openweathermap.org/data/2.5/weather?q=bargal&appid=99d44460b68d7350fabd4ff58b65d0aa&units=imperial\n",
      "City #38 --- weather data not available for bargal\n",
      "_____________________________________________________________\n",
      "Retrieving data for https://api.openweathermap.org/data/2.5/weather?q=airai&appid=99d44460b68d7350fabd4ff58b65d0aa&units=imperial\n",
      "City #39 --- ID: 1651810  Name: Airai\n",
      "_____________________________________________________________\n",
      "Retrieving data for https://api.openweathermap.org/data/2.5/weather?q=bredasdorp&appid=99d44460b68d7350fabd4ff58b65d0aa&units=imperial\n",
      "City #40 --- ID: 1015776  Name: Bredasdorp\n",
      "_____________________________________________________________\n",
      "Retrieving data for https://api.openweathermap.org/data/2.5/weather?q=dikson&appid=99d44460b68d7350fabd4ff58b65d0aa&units=imperial\n",
      "City #41 --- ID: 1507390  Name: Dikson\n",
      "_____________________________________________________________\n",
      "Retrieving data for https://api.openweathermap.org/data/2.5/weather?q=busselton&appid=99d44460b68d7350fabd4ff58b65d0aa&units=imperial\n",
      "City #42 --- ID: 2075265  Name: Busselton\n",
      "_____________________________________________________________\n",
      "Retrieving data for https://api.openweathermap.org/data/2.5/weather?q=caravelas&appid=99d44460b68d7350fabd4ff58b65d0aa&units=imperial\n",
      "City #43 --- ID: 3466980  Name: Caravelas\n",
      "_____________________________________________________________\n",
      "Retrieving data for https://api.openweathermap.org/data/2.5/weather?q=qaanaaq&appid=99d44460b68d7350fabd4ff58b65d0aa&units=imperial\n",
      "City #44 --- ID: 3831208  Name: Qaanaaq\n",
      "_____________________________________________________________\n",
      "Retrieving data for https://api.openweathermap.org/data/2.5/weather?q=new norfolk&appid=99d44460b68d7350fabd4ff58b65d0aa&units=imperial\n",
      "City #45 --- ID: 2155415  Name: New Norfolk\n",
      "_____________________________________________________________\n",
      "Retrieving data for https://api.openweathermap.org/data/2.5/weather?q=saint anthony&appid=99d44460b68d7350fabd4ff58b65d0aa&units=imperial\n",
      "City #46 --- ID: 5606187  Name: Saint Anthony\n",
      "_____________________________________________________________\n",
      "Retrieving data for https://api.openweathermap.org/data/2.5/weather?q=yellowknife&appid=99d44460b68d7350fabd4ff58b65d0aa&units=imperial\n",
      "City #47 --- ID: 6185377  Name: Yellowknife\n",
      "_____________________________________________________________\n",
      "Retrieving data for https://api.openweathermap.org/data/2.5/weather?q=aklavik&appid=99d44460b68d7350fabd4ff58b65d0aa&units=imperial\n",
      "City #48 --- ID: 5882953  Name: Aklavik\n",
      "_____________________________________________________________\n",
      "Retrieving data for https://api.openweathermap.org/data/2.5/weather?q=marcona&appid=99d44460b68d7350fabd4ff58b65d0aa&units=imperial\n",
      "City #49 --- weather data not available for marcona\n",
      "_____________________________________________________________\n",
      "Retrieving data for https://api.openweathermap.org/data/2.5/weather?q=iqaluit&appid=99d44460b68d7350fabd4ff58b65d0aa&units=imperial\n",
      "City #50 --- ID: 5983720  Name: Iqaluit\n",
      "_____________________________________________________________\n",
      "Retrieving data for https://api.openweathermap.org/data/2.5/weather?q=puerto ayora&appid=99d44460b68d7350fabd4ff58b65d0aa&units=imperial\n",
      "City #51 --- ID: 3652764  Name: Puerto Ayora\n",
      "_____________________________________________________________\n",
      "Retrieving data for https://api.openweathermap.org/data/2.5/weather?q=saint austell&appid=99d44460b68d7350fabd4ff58b65d0aa&units=imperial\n",
      "City #52 --- ID: 2638853  Name: Saint Austell\n",
      "_____________________________________________________________\n",
      "Retrieving data for https://api.openweathermap.org/data/2.5/weather?q=norman wells&appid=99d44460b68d7350fabd4ff58b65d0aa&units=imperial\n",
      "City #53 --- ID: 6089245  Name: Norman Wells\n",
      "_____________________________________________________________\n",
      "Retrieving data for https://api.openweathermap.org/data/2.5/weather?q=palabuhanratu&appid=99d44460b68d7350fabd4ff58b65d0aa&units=imperial\n",
      "City #54 --- weather data not available for palabuhanratu\n",
      "_____________________________________________________________\n",
      "Retrieving data for https://api.openweathermap.org/data/2.5/weather?q=petropavlovsk-kamchatskiy&appid=99d44460b68d7350fabd4ff58b65d0aa&units=imperial\n",
      "City #55 --- ID: 2122104  Name: Petropavlovsk-Kamchatskiy\n",
      "_____________________________________________________________\n"
     ]
    }
   ],
   "source": [
    "weather_data = []\n",
    "\n",
    "counter = 0\n",
    "units = \"imperial\" # set to imperial to get temperature in Fahrenheit as required by the output\n",
    "\n",
    "# call weather api looping through df_cities  \n",
    "for row in df_cities.City:\n",
    "    city = row\n",
    "    target_url = f\"https://api.openweathermap.org/data/2.5/weather?q={city}&appid={api_key}&units={units}\"\n",
    "    response = request.get(target_url).json()\n",
    "    weather_data.append(response)\n",
    "    time.sleep(1)\n",
    "    counter +=1\n",
    "\n",
    "    print(\"Retrieving data for \" + target_url)\n",
    "    \n",
    "    if response[\"cod\"] != \"404\": \n",
    "        print(\"City #\" + str(counter) + \" --- ID: \" + str(response['id']) + \"  Name: \" + response['name'])\n",
    "    else:\n",
    "        print(\"City #\" + str(counter) + \" --- weather data not available for \" + city)\n",
    "\n",
    "    print(\"_____________________________________________________________\")"
   ]
  },
  {
   "cell_type": "markdown",
   "metadata": {},
   "source": [
    "### Convert Raw Data to DataFrame\n",
    "* Export the city data into a .csv.\n",
    "* Display the DataFrame"
   ]
  },
  {
   "cell_type": "code",
   "execution_count": null,
   "metadata": {},
   "outputs": [],
   "source": [
    "# Extract needed data from json response\n",
    "data = []\n",
    "for item in weather_data:\n",
    "    if item['cod'] != \"404\":\n",
    "        city = item['name']\n",
    "        country = item['sys']['country']\n",
    "        longitude = item['coord']['lon']\n",
    "        latitude = item['coord']['lat']\n",
    "        date = item['dt']\n",
    "        temperature = item['main']['temp']\n",
    "        humidity = item['main']['humidity']\n",
    "        cloudiness = item['clouds']['all']\n",
    "        wind_speed = item['wind']['speed']\n",
    "        row_data = [city, country, longitude, latitude, date, temperature, humidity, cloudiness, wind_speed]\n",
    "        data.append(row_data)\n",
    "\n",
    "# Create dataframe and display\n",
    "df_weather = pd.DataFrame(data)\n",
    "df_weather.columns = ['City', 'Country', 'Longitude', 'Latitude', 'Date', 'Temperature', 'Humidity', 'Cloudiness', 'Wind Speed']\n",
    "df_weather.head()"
   ]
  },
  {
   "cell_type": "code",
   "execution_count": null,
   "metadata": {},
   "outputs": [],
   "source": [
    "# Save data to CSV file\n",
    "df_weather.to_csv(output_data_file)"
   ]
  },
  {
   "cell_type": "markdown",
   "metadata": {},
   "source": [
    "### Plotting the Data\n",
    "* Use proper labeling of the plots using plot titles (including date of analysis) and axes labels.\n",
    "* Save the plotted figures as .pngs."
   ]
  },
  {
   "cell_type": "markdown",
   "metadata": {},
   "source": [
    "#### Latitude vs. Temperature Plot"
   ]
  },
  {
   "cell_type": "code",
   "execution_count": null,
   "metadata": {},
   "outputs": [],
   "source": [
    "# Convert timestamp to readable date format\n",
    "from datetime import datetime\n",
    "date = datetime.utcfromtimestamp(int(df_weather['Date'][0])).strftime('%m/%d/%y')\n",
    "\n",
    "import seaborn as sns\n",
    "\n",
    "plt.scatter(df_weather['Latitude'], df_weather['Temperature'], marker='o', color='blue', edgecolor='black')\n",
    "plt.xlabel('Latitude')\n",
    "plt.ylabel('Max Temperature (F)')\n",
    "plt.title('City Latitude vs. Max Temperature (' + date + ')')\n",
    "plt.rcParams[\"figure.figsize\"] = [12, 8]\n",
    "plt.grid()\n",
    "sns.set()\n",
    "plt.savefig(\"output_data/temperature.png\")\n",
    "plt.show()"
   ]
  },
  {
   "cell_type": "markdown",
   "metadata": {},
   "source": [
    "#### Latitude vs. Humidity Plot"
   ]
  },
  {
   "cell_type": "code",
   "execution_count": null,
   "metadata": {},
   "outputs": [],
   "source": [
    "plt.scatter(df_weather['Latitude'], df_weather['Humidity'], marker='o', color='blue', edgecolor='black')\n",
    "plt.xlabel('Latitude')\n",
    "plt.ylabel('Humidity (%)')\n",
    "plt.title('City Latitude vs. Humidity (' + date + ')')\n",
    "plt.rcParams[\"figure.figsize\"] = [12, 8]\n",
    "plt.grid()\n",
    "plt.savefig(\"output_data/humidity.png\")\n",
    "plt.show()"
   ]
  },
  {
   "cell_type": "markdown",
   "metadata": {},
   "source": [
    "#### Latitude vs. Cloudiness Plot"
   ]
  },
  {
   "cell_type": "code",
   "execution_count": null,
   "metadata": {},
   "outputs": [],
   "source": [
    "plt.scatter(df_weather['Latitude'], df_weather['Cloudiness'], marker='o', color='blue', edgecolor='black')\n",
    "plt.xlabel('Latitude')\n",
    "plt.ylabel('Cloudiness (%)')\n",
    "plt.title('City Latitude vs. Cloudiness (' + date + ')')\n",
    "plt.rcParams[\"figure.figsize\"] = [12, 8]\n",
    "plt.grid()\n",
    "plt.savefig(\"output_data/cloudiness.png\")\n",
    "plt.show()"
   ]
  },
  {
   "cell_type": "markdown",
   "metadata": {},
   "source": [
    "#### Latitude vs. Wind Speed Plot"
   ]
  },
  {
   "cell_type": "code",
   "execution_count": null,
   "metadata": {},
   "outputs": [],
   "source": [
    "plt.scatter(df_weather['Latitude'], df_weather['Wind Speed'], marker='o', color='blue', edgecolor='black')\n",
    "plt.xlabel('Latitude')\n",
    "plt.ylabel('Wind Speed (mph)')\n",
    "plt.title('City Latitude vs. Wind Speed (' + date + ')')\n",
    "plt.rcParams[\"figure.figsize\"] = [12, 8]\n",
    "plt.grid()\n",
    "plt.savefig(\"output_data/wind.png\")\n",
    "plt.show()"
   ]
  },
  {
   "cell_type": "code",
   "execution_count": null,
   "metadata": {},
   "outputs": [],
   "source": []
  }
 ],
 "metadata": {
  "anaconda-cloud": {},
  "kernelspec": {
   "display_name": "Python 3",
   "language": "python",
   "name": "python3"
  },
  "language_info": {
   "codemirror_mode": {
    "name": "ipython",
    "version": 3
   },
   "file_extension": ".py",
   "mimetype": "text/x-python",
   "name": "python",
   "nbconvert_exporter": "python",
   "pygments_lexer": "ipython3",
   "version": "3.7.1"
  }
 },
 "nbformat": 4,
 "nbformat_minor": 2
}
